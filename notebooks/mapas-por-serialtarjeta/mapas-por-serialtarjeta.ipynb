{
 "cells": [
  {
   "cell_type": "markdown",
   "id": "f0a7c7ad-3455-4888-a44e-fc175c2fe48e",
   "metadata": {},
   "source": [
    "# Mapas generados para cada serialtarjeta existente dentro del dump de datos\n"
   ]
  },
  {
   "cell_type": "markdown",
   "id": "ddb4a99f-97d3-4464-b538-efcc90c45d9d",
   "metadata": {},
   "source": [
    "Para comenzar, debemos importar las librerias que vamos a utilizar para la generación de los mapas y la lectura de los datos."
   ]
  },
  {
   "cell_type": "code",
   "execution_count": null,
   "id": "2dd589ef-5ab9-4bd9-aaf7-c8444146ea6e",
   "metadata": {},
   "outputs": [],
   "source": [
    "import pandas as pd\n",
    "import numpy as np\n",
    "\n",
    "import os\n",
    "\n",
    "import geopandas as gpd\n",
    "import contextily as cx\n",
    "\n",
    "import matplotlib.pyplot as plt"
   ]
  },
  {
   "cell_type": "markdown",
   "id": "d08fa000-47de-4167-902e-e49708b267c5",
   "metadata": {},
   "source": [
    "Vamos a cargar el set de datos correspondiente para cada punto de lectura y serialtarjeta"
   ]
  },
  {
   "cell_type": "code",
   "execution_count": null,
   "id": "e4ddf0ec-6370-49a0-9a49-7a0baff0cb59",
   "metadata": {},
   "outputs": [],
   "source": [
    "datos_lineas = pd.read_csv(\"../../data/interim/latlon-por-serialtarjeta-full.csv\", sep = ';')"
   ]
  }
 ],
 "metadata": {
  "kernelspec": {
   "display_name": "prettymaps",
   "language": "python",
   "name": "prettymaps"
  },
  "language_info": {
   "codemirror_mode": {
    "name": "ipython",
    "version": 3
   },
   "file_extension": ".py",
   "mimetype": "text/x-python",
   "name": "python",
   "nbconvert_exporter": "python",
   "pygments_lexer": "ipython3",
   "version": "3.11.3"
  }
 },
 "nbformat": 4,
 "nbformat_minor": 5
}
