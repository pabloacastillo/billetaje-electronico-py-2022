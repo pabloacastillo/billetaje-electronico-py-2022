{
 "cells": [
  {
   "cell_type": "markdown",
   "id": "e1d24375-df7c-4c42-a798-ef4a64fe0805",
   "metadata": {},
   "source": [
    "# Generación de mapas utilizando los datos de latlon según idrutaestacion\n",
    "\n",
    "Este script tiene por trabajo generar mapas ubicando todos los puntos de (lat,lon) cargados en el dataset utlizando idrutaestacion como parametro de agrupación. Esto muestra todos los puntos sin discrimiar para cada ruta.\n",
    "La expectativa es que esto ayude a visualizar e identificar cada linea según su ruta, pero probablemente deba refinarse significativamente más."
   ]
  },
  {
   "cell_type": "markdown",
   "id": "d42744e8-a521-450f-804c-dca2ef25bd08",
   "metadata": {},
   "source": [
    "Importamos las librerias que vamos a utlizar, en particular las que son para trabajar con mapas"
   ]
  },
  {
   "cell_type": "code",
   "execution_count": 1,
   "id": "eab9af11-ead5-46bc-8d7e-292afcef801b",
   "metadata": {},
   "outputs": [],
   "source": [
    "import pandas as pd\n",
    "import numpy as np\n",
    "\n",
    "import os\n",
    "\n",
    "import geopandas as gpd\n",
    "import contextily as cx\n",
    "\n",
    "import matplotlib.pyplot as plt"
   ]
  },
  {
   "cell_type": "markdown",
   "id": "0c8c77d3-c7fe-43ce-b661-c8b45a8b27a6",
   "metadata": {},
   "source": [
    "Ahora comenzamos a cargar los datos de trabajo, estos son todos los puntos únicos donde se tomo una lectura."
   ]
  },
  {
   "cell_type": "code",
   "execution_count": 2,
   "id": "e2c5424f-7070-4a1c-a9cc-b13f476a75b3",
   "metadata": {},
   "outputs": [],
   "source": [
    "# datos_lineas = pd.read_csv(\"../../data/processed/latlon-por-linea-clean.csv\", sep = ';',low_memory=False)\n",
    "datos_lineas = pd.read_csv(\"../../data/interim/latlon-por-linea-full.csv\", sep = ';')"
   ]
  },
  {
   "cell_type": "markdown",
   "id": "10e501ab-7858-4ca0-9466-06a5a223fd3c",
   "metadata": {},
   "source": [
    "Ahora comenzamos a realizar limpieza de datos. Quitamos todo dato no valido, convertimos a latlon a flotantes, quitamos todos los latlon que sean cero; todos los latlon que no estén dentro de Paraguay."
   ]
  },
  {
   "cell_type": "code",
   "execution_count": 3,
   "id": "0e97d6ef-c138-4135-9223-352752716b37",
   "metadata": {},
   "outputs": [
    {
     "name": "stdout",
     "output_type": "stream",
     "text": [
      "           latitude  longitude idrutaestacion\n",
      "201524134 -25.28744  -57.57238           0117\n",
      "189491759 -25.30590  -57.64613           0000\n",
      "95806090  -25.27948  -57.64258           0043\n",
      "164378192 -25.26468  -57.54744           013d\n",
      "185579378 -25.29892  -57.62527           004d\n",
      "103691444 -25.30700  -57.58403           0141\n",
      "161738286 -25.22865  -57.53531           00b7\n",
      "56150765  -25.39630  -57.54480           0051\n",
      "186134313 -25.29874  -57.57909           0116\n",
      "51720872  -25.17379  -57.44218           00da\n"
     ]
    }
   ],
   "source": [
    "datos_lineas.dropna(how='any', inplace=True) # BORRAR NaNs\n",
    "\n",
    "datos_lineas = datos_lineas[datos_lineas['latitude'] != 'latitude']  # Remover textos de la columna\n",
    "\n",
    "datos_lineas['latitude']=datos_lineas['latitude'].astype('float')\n",
    "datos_lineas['longitude']=datos_lineas['longitude'].astype('float')\n",
    "\n",
    "datos_lineas = datos_lineas[(datos_lineas[['latitude','longitude']] != 0).all(axis=1)] # Remover ceros\n",
    "datos_lineas = datos_lineas[datos_lineas['latitude'] < -25.05]  # Remover latitudes fuera de Asunción\n",
    "datos_lineas = datos_lineas[datos_lineas['longitude'] < -57.4] # Remover longitudes fuera de Asunción\n",
    "datos_lineas = datos_lineas[datos_lineas['latitude'] > -25.8]  # Remover latitudes fuera de Asunción\n",
    "datos_lineas = datos_lineas[datos_lineas['latitude'] > -58]  # Remover latitudes fuera de Asunción\n",
    "\n",
    "\n",
    "print(datos_lineas.sample(10))"
   ]
  },
  {
   "cell_type": "code",
   "execution_count": 4,
   "id": "843af91a-67eb-444b-b400-91b88a8357dd",
   "metadata": {},
   "outputs": [
    {
     "name": "stdout",
     "output_type": "stream",
     "text": [
      "(457,)\n",
      "['00a2' '00bf' '00f7' '00d2' '007d' '00c7' '0061' '005c' '00f5' '00d4'\n",
      " '0045' '0056' '0105' '0014' '00bb' '00ff' '015f' '0113' '00b4' '0130'\n",
      " '0032' '0189' '012a' '0023' '011b' '0182' '00af' '014a' '00d0' '008d'\n",
      " '0100' '0038' '0190' '00c0' '0126' '016d' '00b9' '00a4' '00fd' '00a5'\n",
      " '0177' '013f' '00e4' '0042' '010a' '0079' '015d' '0107' '0160' '013e'\n",
      " '0162' '0194' '2714' '003c' '0110' '0141' '016e' '0137' '0066' '0109'\n",
      " '014c' 'fdeb' '00a0' '007b' '0030' '01b0' '00da' '004b' '0029' '0115'\n",
      " '0018' '00e9' '0138' '00e1' '003e' '0116' '0106' '005d' 'fde8' '009c'\n",
      " '0124' '0035' '0022' '0104' '0184' '0154' '00a7' '005f' '0002' '00cc'\n",
      " 'fe02' '0187' '27b1' '2b08' '2713' '005b' '0170' '00ed' '006e' '0077'\n",
      " '0140' '0028' 'fdfb' '00fe' 'fe00' '006c' '017e' '0013' 'fdf4' '0012'\n",
      " '0046' '01bb' '0179' '0120' '017d' '0001' '001d' '0053' '0185' '01b9'\n",
      " '0153' '00b3' '001a' '016c' '00d9' '017a' '0195' '000d' '00f1' 'fe08'\n",
      " '009d' '000f' '00e5' '00ce' '03f2' '0005' 'fdfd' '004c' '003d' '011e'\n",
      " '0149' '0111' '0132' '005e' '0192' '019b' '019f' '0093' '00c6' '0129'\n",
      " '00b8' '0025' '0121' '0161' 'fe06' '00b0' '01bc' '00e0' '0152' '019e'\n",
      " '0039' 'fdf2' 'b9c0' '0099' '018b' '0197' '00dc' '007e' '0016' '0147'\n",
      " '002f' '0186' '277a' '009e' '00eb' '0114' 'fdea' '0183' '0015' '0172'\n",
      " '002e' '044d' '0031' '0051' '0103' '0089' '0096' '0112' '8a98' '00bc'\n",
      " 'fdee' '0136' '00b7' '002a' '00cd' '004d' '00ee' '008b' '010c' '0171'\n",
      " '00a1' '00d8' '0049' '013a' '0175' '0193' '0139' '0181' '01a5' '0017'\n",
      " '013c' '0026' '000c' 'fdf3' '0198' '0144' '01a3' '0122' '2711' '00df'\n",
      " '0071' '002d' '0164' '001f' '0004' '00c3' '0006' '00e7' '00cb' '0063'\n",
      " '00cf' '00f6' '017c' '0155' '017b' '010b' '0101' '0146' '001e' '0008'\n",
      " '00fb' '008f' '01b4' '0027' '005a' '006b' '0163' '0073' '00fc' '0086'\n",
      " '0180' '0072' '00db' '00de' '0098' '006a' '0055' '0041' '012b' 'fded'\n",
      " '011c' '0143' '0007' '00ba' '0084' '0043' '016f' '01a2' '004f' '01b3'\n",
      " 'fdf8' '0048' '0078' '015b' '01b2' '0068' '0058' '002b' '00d1' '00c2'\n",
      " '1392' '009b' '007f' '00d3' '0092' '00b2' '0034' '0191' '0047' '0142'\n",
      " '0024' '00ef' '00aa' '0085' '00a8' '009f' '0168' '0091' '00dd' 'fe07'\n",
      " '0070' '0150' 'fdec' '0065' '008a' '2720' '0151' '00c5' '013d' '00a3'\n",
      " '008e' '017f' '0033' '00f4' '0134' 'fe05' '003a' '018a' '00d6' '004e'\n",
      " '009a' '0088' '003b' '0076' '000e' '0010' '011d' '0090' '0021' '0118'\n",
      " '0082' '0123' '0074' '2712' '0020' '00f9' '0178' '0040' '00ac' '0036'\n",
      " '01a4' '0166' '0117' '00a6' '00e8' '0188' '018d' '0159' '013b' '002c'\n",
      " '00e6' '015c' '008c' '00fa' '001b' '011f' '00ae' '0011' '004a' '00c1'\n",
      " '0102' '00ea' '0128' '0156' '00be' 'fdfa' '015a' '0009' '0059' '0125'\n",
      " '0052' '0135' '00b5' '006d' '01b5' '0196' '00ab' '014d' '0176' '010f'\n",
      " '0157' '0062' '00c8' '00b1' '0064' '00ca' '01ba' '018f' '0067' '00d7'\n",
      " '0057' '01a0' '0050' '0158' '0037' '0145' '00f8' 'fdff' '010e' '00d5'\n",
      " '00ec' '007a' '0054' '00c4' '00bd' '0000' '0080' 'fde9' '03f8' '001c'\n",
      " '0108' 'fdf9' '00f0' '0060' '0167' '0044' '00e2' 'fe01' '014f' '0081'\n",
      " '015e' '0148' '27b6' '007c' '01b6' '0075' '00ad' '0119' '018c' 'fe09'\n",
      " '0127' '000a' '00b6' '0087' '07ea' '006f' '00c9' '003f' '011a' '000b'\n",
      " '00e3' '0169' '00a9' '0199' '010d' '0133' '0003' '016b' '014b' '016a'\n",
      " '3aa8' '0019' 'ae24' '018e' '014e' '0083' '0165']\n"
     ]
    }
   ],
   "source": [
    "lineas = datos_lineas['idrutaestacion'].unique()\n",
    "np.random.shuffle(lineas)\n",
    "print(lineas.shape)\n",
    "print(lineas)"
   ]
  },
  {
   "cell_type": "markdown",
   "id": "4fd90ff2-5e53-4872-97f2-96b91e8528b9",
   "metadata": {},
   "source": [
    "Comenzamos a crear los mapas para cada idrutaestacion, uno a la vez. Este proceso puede llevar cierto trabajo manual de limpieza y depuración para obtener los mejores resultados; o puede remover el alpha y mostrar todos los puntos y no preocuparse por eso."
   ]
  },
  {
   "cell_type": "code",
   "execution_count": 28,
   "id": "05b20f01-d0e1-4048-a08f-e9613595580c",
   "metadata": {},
   "outputs": [
    {
     "name": "stdout",
     "output_type": "stream",
     "text": [
      "Comenzando a generar gráficos\n",
      "Gráficos generados exitosamente.\n"
     ]
    }
   ],
   "source": [
    "print(\"Comenzando a generar gráficos\")\n",
    "for linea in lineas:\n",
    "    \n",
    "    imgpath = './graphs/'+linea+'.png'\n",
    "    \n",
    "    if(os.path.isfile(imgpath)):\n",
    "        continue\n",
    "    \n",
    "    print(imgpath)\n",
    "    \n",
    "    datos_linea = datos_lineas.loc[datos_lineas['idrutaestacion'] == linea]\n",
    "    latlon_por_linea= gpd.GeoDataFrame(datos_linea, geometry=gpd.points_from_xy(datos_linea.longitude,datos_linea.latitude),crs=\"EPSG:4326\")\n",
    "\n",
    "    linea_mapa_plot = latlon_por_linea.plot(figsize=(9, 9),legend=True,marker='.',markersize=0.2,color='red',alpha=.1)\n",
    "    # linea_mapa_plot = latlon_por_linea.plot(figsize=(9, 9),legend=True,marker='X',markersize=4,color='blue') # MODO ALTA VISIBILIDAD\n",
    "    linea_mapa_plot.set(title='Datos para idrutaestacion '+linea)\n",
    "    cx.add_basemap(linea_mapa_plot, crs=\"EPSG:4326\")\n",
    "    # cx.add_basemap(linea_mapa_plot, crs=\"EPSG:4326\",source=cx.providers.CartoDB.Voyager)\n",
    "    \n",
    "    plt.savefig(imgpath,dpi=300)\n",
    "    plt.close()\n",
    "    # break\n",
    "    # exit()\n",
    "\n",
    "print(\"Gráficos generados exitosamente.\")"
   ]
  },
  {
   "cell_type": "markdown",
   "id": "93058fb2-1723-4bdc-97e2-220cdb38da1e",
   "metadata": {},
   "source": [
    "Se decide crear un segundo set de mapas en color azul ya que muchos recorridos aparentaban mostrar el uso de rutas variadas pero por contar con pocos puntos de lectura no se podían distinguir en el mapa generado. Se puede distinguir entre ambos tipos de mapa ya que los que cuentan con mucha información son rojos y los demás azules. Esta inspección se realiza de forma manual, así como la eliminación de mapas poco visibles para generar las versiones de alta visibilidad en azul."
   ]
  },
  {
   "cell_type": "code",
   "execution_count": null,
   "id": "895d61ef-2a64-4a0b-826f-556f2ed4e7ae",
   "metadata": {},
   "outputs": [],
   "source": [
    "A continuación, vamos a generar un readme.md que muestre todos los gráficos generados junto con su información complementaria."
   ]
  },
  {
   "cell_type": "code",
   "execution_count": 95,
   "id": "73d5f0e2-2d91-4ffa-9d02-79f5a49bbfc5",
   "metadata": {},
   "outputs": [
    {
     "name": "stdout",
     "output_type": "stream",
     "text": [
      "Listo\n"
     ]
    }
   ],
   "source": [
    "referencias = pd.read_csv(\"../../data/processed/idrutaestacion.csv\", sep = ',')\n",
    "md = []\n",
    "for image in os.listdir(\"./graphs/\"):\n",
    "    if (image.endswith(\".png\")):\n",
    "        ref = image[:len(image) - 4]\n",
    "        datos_ruta=((referencias[referencias['idruta'].str.contains(ref.upper())]).values)\n",
    "        titulo=ref\n",
    "        if(len(datos_ruta)>0):\n",
    "            datos_ruta=datos_ruta[0]\n",
    "            titulo=(datos_ruta[2]+\": \"+datos_ruta[1]+\"(\"+datos_ruta[0]+\")\")\n",
    "\n",
    "        md.append('### %s \\n' % titulo)\n",
    "        md.append('![%s]' % titulo)\n",
    "        md.append('(https://raw.githubusercontent.com/pabloacastillo/billetaje-electronico-py-2022/main/notebooks/mapas-por-idrutaestacion/graphs/%s)' % image)\n",
    "        md.append('\\n')\n",
    "        # md+=('!['+titulo+'](https://raw.githubusercontent.com/pabloacastillo/billetaje-electronico-py-2022/main/notebooks/mapas-por-idrutaestacion/graphs/'+image+' \"'+titulo+'\")')\n",
    "\n",
    "with open('./rutas_imagenes.md', 'w', encoding='utf-8') as f:\n",
    "    f.writelines(md)\n",
    "    \n",
    "print('Listo')      "
   ]
  },
  {
   "cell_type": "code",
   "execution_count": null,
   "id": "8f4a877e-6174-48ba-b319-8dfeb5449ba6",
   "metadata": {},
   "outputs": [],
   "source": []
  }
 ],
 "metadata": {
  "kernelspec": {
   "display_name": "prettymaps",
   "language": "python",
   "name": "prettymaps"
  },
  "language_info": {
   "codemirror_mode": {
    "name": "ipython",
    "version": 3
   },
   "file_extension": ".py",
   "mimetype": "text/x-python",
   "name": "python",
   "nbconvert_exporter": "python",
   "pygments_lexer": "ipython3",
   "version": "3.11.3"
  }
 },
 "nbformat": 4,
 "nbformat_minor": 5
}
