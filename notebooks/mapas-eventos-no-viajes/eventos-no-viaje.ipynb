{
 "cells": [
  {
   "cell_type": "markdown",
   "id": "b1961dca-06c5-4c60-972b-2e427236a234",
   "metadata": {},
   "source": [
    "# Mapas de locaciones con eventos diferente a viaje\n",
    "\n",
    "Estos eventos son todos los que 'tipoevento' es diferente a 4 (Viaje Normal). \n",
    "Los eventos a mapearse son:\n",
    "\n",
    "8. Devolución \n",
    "10. Recarga de la tarjeta. \n",
    "14. Devolucion"
   ]
  },
  {
   "cell_type": "markdown",
   "id": "326fd118-009e-4f1d-a836-b50e72321994",
   "metadata": {},
   "source": [
    "Importar librerías que vamos a usar"
   ]
  },
  {
   "cell_type": "code",
   "execution_count": 1,
   "id": "df593df9-ba23-4843-a086-6007535166de",
   "metadata": {},
   "outputs": [],
   "source": [
    "import pandas as pd\n",
    "import numpy as np\n",
    "\n",
    "\n",
    "import geopandas as gpd\n",
    "import contextily as cx\n",
    "\n",
    "import matplotlib.pyplot as plt\n",
    "import matplotlib.patches as mpatches"
   ]
  },
  {
   "cell_type": "markdown",
   "id": "5d9f8b86-eaa9-44bc-af3f-dc6e89a885be",
   "metadata": {},
   "source": [
    "Ahora vamos a cargar los archivos de datos que vamos a utlizar"
   ]
  },
  {
   "cell_type": "code",
   "execution_count": 2,
   "id": "ffb50222-47d0-470d-9df2-6f21ddd121cc",
   "metadata": {},
   "outputs": [
    {
     "name": "stdout",
     "output_type": "stream",
     "text": [
      "                           serialtarjeta           idsam   \n",
      "70473   2fb66f0f8b8dc6c6409aa40cfc70f6b6  043c2d42846280  \\\n",
      "249418  a2123d1ecf0c53bd1563c791d23b6903  04391842846280   \n",
      "125190  2fcec22a3a5cccd0a1f586707af475af  04352722b95a80   \n",
      "326396  fba8d6a0e4a9ac2441a621090c290474  042034d2955d80   \n",
      "52389   0b34fc32a528c719624287cfdd60d951  04132a22626c80   \n",
      "231744  5145193b5e92dd657b3ae1349fd020c7  04083722846280   \n",
      "158091  f7d48485516ab36e3d3c0e8e9c758d70  041e07e24e6180   \n",
      "315807  64a0d69d4acb4c7457da9bcb8283f787  04043122846280   \n",
      "264047  fc28710e6eac78261c4c6a572cb3e137  041736e24e6180   \n",
      "279109  1268242b5cdae17ab2e82171b7581709  04331122b95a80   \n",
      "\n",
      "                      fechahoraevento producto  montoevento   \n",
      "70473   2022/10/04 06:58:38.000000000       ES         1150  \\\n",
      "249418  2022/04/22 18:42:28.000000000       MO         2300   \n",
      "125190  2022/12/06 15:34:20.000000000       MO         3400   \n",
      "326396  2022/07/19 11:47:48.000000000       MO         2300   \n",
      "52389   2022/10/22 06:29:18.000000000       MO         2800   \n",
      "231744  2022/03/11 06:19:56.000000000       MO         2300   \n",
      "158091  2023/02/25 05:46:12.000000000       MO         2300   \n",
      "315807  2022/06/01 07:18:12.000000000       MO         2300   \n",
      "264047  2022/04/05 19:16:12.000000000       MO         3400   \n",
      "279109  2022/05/17 19:14:06.000000000       MO         3400   \n",
      "\n",
      "        consecutivoevento  identidad  tipoevento  latitude  longitude   \n",
      "70473                 103          2           8 -25.30460  -57.60832  \\\n",
      "249418                 77          2           8 -25.28154  -57.54688   \n",
      "125190                172          3           8 -25.28794  -57.57277   \n",
      "326396                 80          3           8 -25.26405  -57.50937   \n",
      "52389                 414          3           8 -25.26477  -57.58229   \n",
      "231744                189          2           8 -25.26917  -57.60133   \n",
      "158091               1077          3           8 -25.48937  -57.45504   \n",
      "315807                366          2           8 -25.39335  -57.54658   \n",
      "264047                297          3           8 -25.18835  -57.54182   \n",
      "279109                411          3           8 -25.37575  -57.40808   \n",
      "\n",
      "       idrutaestacion  tipotransporte  \n",
      "70473            0098               3  \n",
      "249418           005b               3  \n",
      "125190           00a0               3  \n",
      "326396           0148               1  \n",
      "52389            0000               1  \n",
      "231744           0000               3  \n",
      "158091           0138               1  \n",
      "315807           005c               1  \n",
      "264047           0017               1  \n",
      "279109           0109               3  \n"
     ]
    }
   ],
   "source": [
    "datos_eventos = pd.read_csv(\"../../data/processed/consolidado-full-sin-viajes.csv\", sep = ';',low_memory=False)\n",
    "print(datos_eventos.sample(10))"
   ]
  },
  {
   "cell_type": "markdown",
   "id": "35ad1f52-a040-4b22-abe2-dafe72ab4401",
   "metadata": {},
   "source": [
    "Con los datos cargados, comenzamos el trabajo de limpieza y preparación para poder procesarlo y generar un mapa de eventos."
   ]
  },
  {
   "cell_type": "code",
   "execution_count": 3,
   "id": "be186cf3-f9d8-4666-8ce2-c790542f04f7",
   "metadata": {},
   "outputs": [
    {
     "name": "stdout",
     "output_type": "stream",
     "text": [
      "                           serialtarjeta           idsam   \n",
      "134064  5f1a0314c77e942fa13b65c213ca234b  0409171a846280  \\\n",
      "342435  e043c1167e8d680d4c5530b586cc9cc5  043e1542846280   \n",
      "385780  0ee48e4aa0cb9b32b9d4835e7d41dd70  04132f1aaa6380   \n",
      "78818   d808a7eefda0a9a8a650408b1d66e9d6  04071522846280   \n",
      "59852   4694743db34ce1d406bad3486e360a65  041c28e24e6180   \n",
      "142801  02178f8daa5856e51646ce9fe8c5b066  043730d2955d80   \n",
      "236902  b38048b37169dd1b67d20651347c30a6  04314222b95a80   \n",
      "192182  418de6c1a34f840e2d5d2bbbdb4b9908  043b1b42846280   \n",
      "117404  abf80d296fb035d2c1f859995ca5bca5  04310622b95a80   \n",
      "295125  ccf0e1cf3f21d8e50b958fd747a5c20d  0412361aaa6380   \n",
      "\n",
      "                      fechahoraevento producto  montoevento   \n",
      "134064  2023/01/26 17:17:26.000000000       MO         3400  \\\n",
      "342435  2022/08/29 12:13:30.000000000       MO         3400   \n",
      "385780  2022/09/07 13:48:02.000000000       MO         2300   \n",
      "78818   2022/11/23 19:01:38.000000000       MO         3400   \n",
      "59852   2022/10/14 14:58:32.000000000       MO         2300   \n",
      "142801  2023/01/18 13:51:50.000000000       MO         2300   \n",
      "236902  2022/03/05 14:29:26.000000000       MO         2300   \n",
      "192182  2023/03/21 08:48:54.000000000       MO         2300   \n",
      "117404  2022/12/13 07:14:52.000000000       MO         2300   \n",
      "295125  2022/06/27 09:40:18.000000000       MO         2800   \n",
      "\n",
      "        consecutivoevento  identidad  tipoevento  latitude  longitude   \n",
      "134064                312          3           8 -25.36297  -57.56524  \\\n",
      "342435                253          2           8 -25.22655  -57.53429   \n",
      "385780                216          3           8 -25.34100  -57.41076   \n",
      "78818                 302          2           8 -25.39401  -57.49094   \n",
      "59852                 309          3           8 -25.29682  -57.42353   \n",
      "142801                869          3           8 -25.46608  -57.44052   \n",
      "236902                144          3           8 -25.34706  -57.51425   \n",
      "192182                597          2           8 -25.39279  -57.46837   \n",
      "117404                812          3           8 -25.33742  -57.52717   \n",
      "295125                155          3           8 -25.31160  -57.63599   \n",
      "\n",
      "       idrutaestacion  tipotransporte     tipotransporte_cat identidad_cat  \n",
      "134064           0104               1  Bus municipal interno           MAS  \n",
      "342435           001e               3                 Normal           VMT  \n",
      "385780           0146               1  Bus municipal interno           MAS  \n",
      "78818            0099               3                 Normal           VMT  \n",
      "59852            0136               1  Bus municipal interno           MAS  \n",
      "142801           0138               1  Bus municipal interno           MAS  \n",
      "236902           0132               3                 Normal           MAS  \n",
      "192182           0040               3                 Normal           VMT  \n",
      "117404           009a               1  Bus municipal interno           MAS  \n",
      "295125           0000               3                 Normal           MAS  \n"
     ]
    }
   ],
   "source": [
    "datos_eventos.dropna(how='any', inplace=True) # BORRAR NaNs\n",
    "\n",
    "datos_eventos['latitude']=datos_eventos['latitude'].astype('float')\n",
    "datos_eventos['longitude']=datos_eventos['longitude'].astype('float')\n",
    "\n",
    "datos_eventos = datos_eventos[(datos_eventos[['latitude','longitude']] != 0).all(axis=1)] # Remover ceros\n",
    "datos_eventos = datos_eventos[datos_eventos['latitude'] < -25.05]  # Remover latitudes fuera de Asunción\n",
    "datos_eventos = datos_eventos[datos_eventos['longitude'] < -57.2] # Remover longitudes fuera de Asunción\n",
    "datos_eventos = datos_eventos[datos_eventos['latitude'] > -25.8]  # Remover latitudes fuera de Asunción\n",
    "# datos_eventos = datos_eventos[datos_eventos['latitude'] > -58]  # Remover latitudes fuera de Asunción\n",
    "\n",
    "\n",
    "\n",
    "datos_eventos[\"tipotransporte_cat\"] = pd.cut(\n",
    "    x=datos_eventos[\"tipotransporte\"],\n",
    "    bins=[0, 1,3, np.inf],\n",
    "    labels=[\"Bus municipal interno\", \"Normal\", \"Diferencial\"],\n",
    ")\n",
    "\n",
    "# Se refiere al propietario del validador donde: - 1. VMT - 2. MAS - 3. JAHA\n",
    "datos_eventos[\"identidad_cat\"] = pd.cut(\n",
    "    x=datos_eventos[\"identidad\"],\n",
    "    bins=[1, 2, 3, np.inf],\n",
    "    labels=[\"VMT\", \"MAS\", \"JAHA\"],\n",
    ")\n",
    "\n",
    "\n",
    "print(datos_eventos.sample(10))"
   ]
  },
  {
   "cell_type": "markdown",
   "id": "a42f9087-ec34-4844-8ba6-708491d367cd",
   "metadata": {},
   "source": [
    "Ahora con los datos listos comenzamos a trabajar generando los mapas.\n",
    "Vamos a generar diferentes mapas con estos datos: \n",
    "- serialtarjeta\n",
    "- idsam\n",
    "- producto\n",
    "- identidad\n",
    "- idrutaestacion\n",
    "- tipotransporte"
   ]
  },
  {
   "cell_type": "code",
   "execution_count": null,
   "id": "ca17c756-be50-4b9e-ba63-866dc2146af4",
   "metadata": {},
   "outputs": [
    {
     "name": "stdout",
     "output_type": "stream",
     "text": [
      "=====> Generando gráficos\n",
      "Generando gráfico por producto\n",
      "Gráfico por producto listo\n",
      "Generando gráfico por identidad\n",
      "Gráfico por identidad listo\n",
      "Generando gráfico por idrutaestacion\n",
      "Gráfico por idrutaestacion listo\n",
      "Generando gráfico por tipotransporte\n",
      "Gráfico por tipotransporte listo\n",
      "Generando gráfico por idsam\n",
      "Gráfico por idsam listo\n",
      "Generando gráfico por serialtarjeta\n"
     ]
    }
   ],
   "source": [
    "print(\"=====> Generando gráficos\")\n",
    "\n",
    "latlon_por_evento= gpd.GeoDataFrame(datos_eventos, geometry=gpd.points_from_xy(datos_eventos.longitude,datos_eventos.latitude),crs=\"EPSG:4326\")\n",
    "\n",
    "\n",
    "print(\"Generando gráfico por producto\")\n",
    "eventos_mapa_plot = latlon_por_evento.plot(legend=True,column='producto',cmap='gist_rainbow',marker='o',markersize=0.2,alpha=1)\n",
    "eventos_mapa_plot.set(title='Datos para producto')\n",
    "cx.add_basemap(eventos_mapa_plot, crs=\"EPSG:4326\")\n",
    "plt.savefig('./graphs/producto.png',dpi=300)\n",
    "plt.close()\n",
    "print(\"Gráfico por producto listo\")\n",
    "\n",
    "\n",
    "print(\"Generando gráfico por identidad\")\n",
    "eventos_mapa_plot = latlon_por_evento.plot(legend=True,column='identidad_cat',cmap='gist_rainbow',marker='o',markersize=0.2,alpha=1)\n",
    "eventos_mapa_plot.set(title='Datos para identidad')\n",
    "cx.add_basemap(eventos_mapa_plot, crs=\"EPSG:4326\")\n",
    "plt.savefig('./graphs/identidad.png',dpi=300)\n",
    "plt.close()\n",
    "print(\"Gráfico por identidad listo\")\n",
    "\n",
    "\n",
    "print(\"Generando gráfico por idrutaestacion\")\n",
    "eventos_mapa_plot = latlon_por_evento.plot(legend=False,column='idrutaestacion',cmap='gist_rainbow',marker='o',markersize=0.2,alpha=1)\n",
    "eventos_mapa_plot.set(title='Datos para idrutaestacion')\n",
    "cx.add_basemap(eventos_mapa_plot, crs=\"EPSG:4326\")\n",
    "plt.savefig('./graphs/idrutaestacion.png',dpi=300)\n",
    "plt.close()\n",
    "print(\"Gráfico por idrutaestacion listo\")\n",
    "\n",
    "\n",
    "# Tipo de transporte donde - 0. Bus municipal interno - 1. Normal - 3. Diferencial\n",
    "print(\"Generando gráfico por tipotransporte\")\n",
    "eventos_mapa_plot = latlon_por_evento.plot(legend=True,column='tipotransporte_cat',cmap='gist_rainbow',marker='o',markersize=0.2,alpha=1)\n",
    "eventos_mapa_plot.set(title='Datos para tipotransporte')\n",
    "cx.add_basemap(eventos_mapa_plot, crs=\"EPSG:4326\")\n",
    "plt.savefig('./graphs/tipotransporte.png',dpi=300)\n",
    "plt.close()\n",
    "print(\"Gráfico por tipotransporte listo\")\n",
    "\n",
    "\n",
    "print(\"Generando gráfico por idsam\")\n",
    "eventos_mapa_plot = latlon_por_evento.plot(legend=False,column='idsam',cmap='gist_rainbow',marker='o',markersize=0.2,alpha=1)\n",
    "eventos_mapa_plot.set(title='Datos por idsam')\n",
    "cx.add_basemap(eventos_mapa_plot, crs=\"EPSG:4326\")\n",
    "plt.savefig('./graphs/idsam.png',dpi=300)\n",
    "plt.close()\n",
    "print(\"Gráfico por idsam listo\")\n",
    "\n",
    "\n",
    "print(\"Generando gráfico por serialtarjeta\")\n",
    "eventos_mapa_plot = latlon_por_evento.plot(legend=True,column='serialtarjeta',cmap='gist_rainbow',marker='o',markersize=0.2,alpha=1)\n",
    "eventos_mapa_plot.set(title='Datos por serialtarjeta')\n",
    "cx.add_basemap(eventos_mapa_plot, crs=\"EPSG:4326\")\n",
    "plt.savefig('./graphs/serialtarjeta.png',dpi=300)\n",
    "plt.close()\n",
    "print(\"Gráfico por serialtarjeta listo\")\n",
    "\n",
    "print(\"Gráficos generados <=====\")"
   ]
  },
  {
   "cell_type": "code",
   "execution_count": null,
   "id": "39141ff7-0541-45aa-954e-e44d4f43fb6f",
   "metadata": {},
   "outputs": [],
   "source": []
  }
 ],
 "metadata": {
  "kernelspec": {
   "display_name": "prettymaps",
   "language": "python",
   "name": "prettymaps"
  },
  "language_info": {
   "codemirror_mode": {
    "name": "ipython",
    "version": 3
   },
   "file_extension": ".py",
   "mimetype": "text/x-python",
   "name": "python",
   "nbconvert_exporter": "python",
   "pygments_lexer": "ipython3",
   "version": "3.11.3"
  }
 },
 "nbformat": 4,
 "nbformat_minor": 5
}
